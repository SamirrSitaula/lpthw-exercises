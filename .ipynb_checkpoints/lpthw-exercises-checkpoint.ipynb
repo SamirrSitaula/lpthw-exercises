{
 "cells": [
  {
   "cell_type": "code",
   "execution_count": 2,
   "id": "63dee6d7-03b0-4eff-b1a0-463af2307ee3",
   "metadata": {},
   "outputs": [
    {
     "name": "stdout",
     "output_type": "stream",
     "text": [
      "Hello World!\n",
      "hello Again\n",
      "I like typing this\n",
      "this is fun\n",
      "yay! Printing\n",
      "I'd much rather you 'not'.\n",
      "I \" Said\" do not touch this.\n"
     ]
    }
   ],
   "source": [
    "print(\"Hello World!\")\n",
    "print(\"hello Again\")\n",
    "print(\"I like typing this\")\n",
    "print(\"this is fun\")\n",
    "print('yay! Printing')\n",
    "print(\"I'd much rather you 'not'.\")\n",
    "print('I \" Said\" do not touch this.')"
   ]
  },
  {
   "cell_type": "code",
   "execution_count": 5,
   "id": "78c57494-7c98-434a-a3db-bb1b365a790e",
   "metadata": {},
   "outputs": [
    {
     "name": "stdout",
     "output_type": "stream",
     "text": [
      "#make your #script print another line\n"
     ]
    }
   ],
   "source": [
    "print(\"#make your #script print another line\" )\n",
    "#print(\"make your script print only one line\")\n"
   ]
  },
  {
   "cell_type": "code",
   "execution_count": 7,
   "id": "8310053e-3b83-48e2-becf-7d4e7f011d17",
   "metadata": {},
   "outputs": [
    {
     "name": "stdout",
     "output_type": "stream",
     "text": [
      "i will now count my chickens:\n",
      "hens 30.0\n",
      "roosters 97\n",
      "Now I will count the eggs:\n",
      "6.75\n",
      "is it true that 3 + 2<5 - 7?\n",
      "False\n",
      "what is 3 + 2? 5\n",
      "what is 5 - 7 -2\n",
      "Oh, that's why its False.\n",
      "How about some more.\n",
      "is it greater? True\n",
      "is it greater or equal? True\n",
      "is it less or equal? False\n"
     ]
    }
   ],
   "source": [
    "#print all the lines\n",
    "print(\"i will now count my chickens:\")\n",
    "#print number of hens\n",
    "print(\"hens\", 25+30/6)\n",
    "#print Number of roosters\n",
    "print(\"roosters\", 100-25* 3 %4)\n",
    "#prnts all lines\n",
    "print(\"Now I will count the eggs:\")\n",
    "#prints the calculations for eggs\n",
    "print (3 + 2 + 1 - 5 + 4 % 2 - 1 /4 + 6)\n",
    "#prints whether 3 + 2 < 5 - 7\n",
    "print(\"is it true that 3 + 2<5 - 7?\")\n",
    "#prints its calculations\n",
    "print(3 + 2 < 5 - 7)\n",
    "#prints the sum of 3 + 3\n",
    "print(\"what is 3 + 2?\", 3 + 2)\n",
    "#prints the substractions of seven with five\n",
    "print(\"what is 5 - 7\", 5 - 7)\n",
    "#prints all the sentences\n",
    "print(\"Oh, that's why its False.\")\n",
    "#prints some more questions\n",
    "print (\"How about some more.\")\n",
    "#prints to check whether 5 is greater than - 2\n",
    "print(\"is it greater?\", 5> -2)\n",
    "\n",
    "#prints whether 5 is greater than - 2\n",
    "print(\"is it greater or equal?\", 5>=-2)\n",
    "#prints whether 5 is less than or euuals -2\n",
    "print(\"is it less or equal?\", 5<= -2)\n"
   ]
  },
  {
   "cell_type": "code",
   "execution_count": 9,
   "id": "9c122046-1e9a-47b3-9030-4bf7c7d9562a",
   "metadata": {},
   "outputs": [
    {
     "name": "stdout",
     "output_type": "stream",
     "text": [
      "there are 100 cars avaialbe.\n",
      "there are only 30 drivers available\n",
      "There will be 70 empty cars today\n",
      " we can transport 120.0 people\n",
      "we need to put about 3.0 in each car\n"
     ]
    }
   ],
   "source": [
    "#number of cars\n",
    "cars = 100\n",
    "#space available in car with float numbers\n",
    "space_in_a_car = 4.0\n",
    "#number of drivers\n",
    "drivers = 30\n",
    "#numbers of passengets\n",
    "passengers = 90\n",
    "#number of cars that are not driven\n",
    "cars_not_driven = cars - drivers\n",
    "#number of cars that are driven is equals number of drives\n",
    "cars_driven = drivers\n",
    "carpool_capacity = cars_driven * space_in_a_car\n",
    "average_passengers_per_car = passengers / cars_driven\n",
    "print(\"there are\", cars, \"cars avaialbe.\")\n",
    "print(\"there are only\", drivers, \"drivers available\")\n",
    "print(\"There will be\", cars_not_driven, \"empty cars today\")\n",
    "print( \" we can transport\", carpool_capacity, \"people\")\n",
    "print(\"we need to put about\", average_passengers_per_car, \"in each car\")\n",
    "\n",
    "\n"
   ]
  },
  {
   "cell_type": "code",
   "execution_count": 15,
   "id": "baf637f5-5a3c-49c1-9e6b-71d2443fe74e",
   "metadata": {},
   "outputs": [
    {
     "name": "stdout",
     "output_type": "stream",
     "text": [
      "Let's talk about Zed A Shaw.\n",
      "He's 187.96 inches tall.\n",
      "He's 90.0 pounds heavy.\n",
      "Actually that's not too heavy\n",
      "His teeth are usually White depending on the\n",
      "If I add 35, 187.96, and 90.0\n"
     ]
    }
   ],
   "source": [
    "name = 'Zed A Shaw'\n",
    "age = 35 # not a lie\n",
    "height = 74 #inches\n",
    "height_in_cm = height * 2.54 \n",
    "weight = 180 # lbs\n",
    "weight_in_kilogram = weight * 0.5\n",
    "eyes = 'Blue'\n",
    "teeth = 'White'\n",
    "hair = 'Brown'\n",
    "print(f\"Let's talk about {name}.\")\n",
    "print(f\"He's {height_in_cm} inches tall.\")\n",
    "print(f\"He's {weight_in_kilogram} pounds heavy.\")\n",
    "print(\"Actually that's not too heavy\")\n",
    "print(f\"His teeth are usually {teeth} depending on the\")\n",
    "# this line is tricky, try to get it exactly right\n",
    "total = age + height_in_cm + weight_in_kilogram\n",
    "print(f\"If I add {age}, {height_in_cm}, and {weight_in_kilogram}\")"
   ]
  },
  {
   "cell_type": "code",
   "execution_count": 19,
   "id": "b2bc215b-0355-48d8-9e2a-ffac8008dc0e",
   "metadata": {},
   "outputs": [
    {
     "name": "stdout",
     "output_type": "stream",
     "text": [
      "There are 10 types of people\n",
      "Those who know binary and those who don't.\n",
      "I said: There are 10 types of people\n",
      "I also said: ' Those who know binary and those who don't.'\n",
      "Isn't that joke so funny?! False\n",
      "This is the left side of ....a string with a right side.\n"
     ]
    }
   ],
   "source": [
    "#variable\n",
    "types_of_people = 10\n",
    "#variable inside variable\n",
    "x = f\"There are {types_of_people} types of people\"\n",
    "#variable\n",
    "binary = \"binary\"\n",
    "#variable\n",
    "do_not = \"don't\"\n",
    "#variable inside string\n",
    "y = f\"Those who know {binary} and those who {do_not}.\"\n",
    "#printing X variable\n",
    "print(x)\n",
    "#printing Y variable\n",
    "print(y)\n",
    "#variable inside print string\n",
    "print(f\"I said: {x}\")\n",
    "#variable inside print string\n",
    "print(f\"I also said: ' {y}'\")\n",
    "#boolean variable\n",
    "hilarious = False\n",
    "#final variable with \n",
    "joke_evaluation = \"Isn't that joke so funny?! {}\"\n",
    "print(joke_evaluation.format(hilarious))\n",
    "w = \"This is the left side of ....\"\n",
    "e = \"a string with a right side.\"\n",
    "print(w + e)"
   ]
  },
  {
   "cell_type": "code",
   "execution_count": 21,
   "id": "dcc42b8d-f3bc-44ec-9b2e-3705b632c869",
   "metadata": {},
   "outputs": [
    {
     "name": "stdout",
     "output_type": "stream",
     "text": [
      "Mary had a little lamb.\n",
      "Its fleece was white as snow.\n",
      "And everwhere that Mary went.\n",
      "..........\n",
      "cheeseBurger\n"
     ]
    }
   ],
   "source": [
    "#prints string\n",
    "print(\"Mary had a little lamb.\")\n",
    "\n",
    "#prints string and at last word was called using .format()\n",
    "print(\"Its fleece was white as {}.\".format('snow'))\n",
    "#prints a string\n",
    "print(\"And everwhere that Mary went.\")\n",
    "#prints . ten times\n",
    "print(\".\" * 10) #what'd that do?\n",
    "#assigning variable to its value\n",
    "end1 = \"c\"\n",
    "#assigning variable to its value\n",
    "end2 = \"h\"\n",
    "#assigning variable to its value\n",
    "end3 = \"e\"\n",
    "#assigning variable to its value\n",
    "end4 = \"e\"\n",
    "#assigning variable to its value\n",
    "end5 = \"s\"\n",
    "#assigning variable to its value\n",
    "end6 = \"e\"\n",
    "#assigning variable to its value\n",
    "end7 = \"B\"\n",
    "#assigning variable to its value\n",
    "end8 = \"u\"\n",
    "#assigning variable to its value\n",
    "end9 = \"r\"\n",
    "#assigning variable to its value\n",
    "end10 = \"g\"\n",
    "#assigning variable to its value\n",
    "end11 = \"e\"\n",
    "#assigning variable to its value\n",
    "end12 = \"r\"\n",
    "#watch end = ' ' at the end. try removing it to see what happens\n",
    "print(end1 + end2 + end3 + end4 + end5 + end6, end='')\n",
    "print(end7 + end8 + end9 + end10 + end11 + end12)\n"
   ]
  },
  {
   "cell_type": "code",
   "execution_count": 22,
   "id": "b41b4c11-aad3-4e8d-912b-65b055885d99",
   "metadata": {},
   "outputs": [
    {
     "name": "stdout",
     "output_type": "stream",
     "text": [
      " 1 2 3 4\n",
      " one two three four\n",
      " True False False True\n",
      "  {} {} {} {}  {} {} {} {}  {} {} {} {}  {} {} {} {}\n",
      " Try your Own text here May be a poem or a song about fear\n",
      " Ahh Mero Ekkdum Thik chha, Timro Teta Kasto chha, Timlai Sancho vayo ki chhaina, Dherai baira baira kukur jasto nahidnu,\n"
     ]
    }
   ],
   "source": [
    "formatter = \" {} {} {} {}\"\n",
    "\n",
    "print(formatter.format(1, 2, 3, 4))\n",
    "print(formatter.format(\"one\", \"two\", \"three\", \"four\"))\n",
    "print(formatter.format(True, False, False, True))\n",
    "print(formatter.format(formatter, formatter, formatter, formatter))\n",
    "print(formatter.format(\n",
    "    \"Try your\",\n",
    "    \"Own text here\",\n",
    "    \"May be a poem\",\n",
    "    \"or a song about fear\"\n",
    "))\n",
    "\n",
    "keyword = \" {} {} {} {}\"\n",
    "print(keyword.format(\n",
    "    \"Ahh Mero Ekkdum Thik chha,\",\n",
    "    \"Timro Teta Kasto chha,\",\n",
    "    \"Timlai Sancho vayo ki chhaina,\",\n",
    "    \"Dherai baira baira kukur jasto nahidnu,\"\n",
    "))\n"
   ]
  },
  {
   "cell_type": "code",
   "execution_count": 24,
   "id": "5fd35b17-2ff2-429b-9d00-3946fb1cfa3e",
   "metadata": {},
   "outputs": [
    {
     "name": "stdout",
     "output_type": "stream",
     "text": [
      "Here are the days:  Mon Tue Wed Thu Fri Sat Sun\n",
      "Here are the months:  Jan\n",
      "Feb\n",
      "Mar\n",
      "Apr\n",
      "May\n",
      "Jun\n",
      "Jul\n",
      "Aug\n",
      "There's something going on here.\n",
      "with the three double-quotes.\n",
      "We'll be able to type as much as we like.\n",
      "Even 4 lines if we want, or 5, or 6.\n",
      "\n"
     ]
    }
   ],
   "source": [
    "#Here's some new strange stuff, remember type it exactly\n",
    "days = \"Mon Tue Wed Thu Fri Sat Sun\"\n",
    "months = \"Jan\\nFeb\\nMar\\nApr\\nMay\\nJun\\nJul\\nAug\"\n",
    "print(\"Here are the days: \", days)\n",
    "print(\"Here are the months: \", months)\n",
    "\n",
    "print(\"\"\"There's something going on here.\n",
    "with the three double-quotes.\n",
    "We'll be able to type as much as we like.\n",
    "Even 4 lines if we want, or 5, or 6.\n",
    "\"\"\")"
   ]
  },
  {
   "cell_type": "code",
   "execution_count": 26,
   "id": "b050bc47-43eb-478f-a6a5-9de44e9175c4",
   "metadata": {},
   "outputs": [
    {
     "name": "stdout",
     "output_type": "stream",
     "text": [
      "\tI'm tabbed in. \n",
      " I'm split \n",
      "on a line.\n",
      " I'm \\ a \\ cat.\n",
      "\n",
      "I'll do a list:\n",
      "\t* cat food\n",
      "\t* Fishies\n",
      "\t* Catnip \n",
      "\t* Grass\n",
      "\n"
     ]
    }
   ],
   "source": [
    "tabby_cat = \"\\tI'm tabbed in. \"\n",
    "persian_cat = \" I'm split \\non a line.\"\n",
    "backslash_cat = \" I'm \\\\ a \\\\ cat.\"\n",
    "fat_cat = \"\"\"\n",
    "I'll do a list:\n",
    "\\t* cat food\n",
    "\\t* Fishies\n",
    "\\t* Catnip \\n\\t* Grass\n",
    "\"\"\"\n",
    "\n",
    "print(tabby_cat)\n",
    "print(persian_cat)\n",
    "print(backslash_cat)\n",
    "print(fat_cat)"
   ]
  },
  {
   "cell_type": "code",
   "execution_count": 34,
   "id": "747db86a-8707-42c6-b461-5b3d0719001b",
   "metadata": {},
   "outputs": [
    {
     "name": "stdout",
     "output_type": "stream",
     "text": [
      "Who are you?"
     ]
    },
    {
     "name": "stdin",
     "output_type": "stream",
     "text": [
      " kj\n"
     ]
    },
    {
     "name": "stdout",
     "output_type": "stream",
     "text": [
      " How old are you?"
     ]
    },
    {
     "name": "stdin",
     "output_type": "stream",
     "text": [
      " mn\n"
     ]
    },
    {
     "name": "stdout",
     "output_type": "stream",
     "text": [
      " how tall are you?"
     ]
    },
    {
     "name": "stdin",
     "output_type": "stream",
     "text": [
      " mn\n"
     ]
    },
    {
     "name": "stdout",
     "output_type": "stream",
     "text": [
      " How much do you weigh?"
     ]
    },
    {
     "name": "stdin",
     "output_type": "stream",
     "text": [
      " mn\n"
     ]
    },
    {
     "name": "stdout",
     "output_type": "stream",
     "text": [
      "SO, you're mn years old, mn ta;; and mn heavy\n"
     ]
    }
   ],
   "source": [
    "print ( \"Who are you?\", end = '')\n",
    "name = input()\n",
    "print(\" How old are you?\" , end = '')\n",
    "age = input()\n",
    "print(\" how tall are you?\", end = '')\n",
    "height = input()\n",
    "print(\" How much do you weigh?\" , end = '')\n",
    "weight = input()\n",
    "print (f\"SO, you're {age} years old, {height} ta;; and {weight} heavy\")  "
   ]
  },
  {
   "cell_type": "code",
   "execution_count": 32,
   "id": "a259f7d8-2873-4a11-ad34-9e32e439937c",
   "metadata": {},
   "outputs": [
    {
     "name": "stdout",
     "output_type": "stream",
     "text": [
      "Who are you?\n"
     ]
    },
    {
     "name": "stdin",
     "output_type": "stream",
     "text": [
      " samir\n"
     ]
    },
    {
     "name": "stdout",
     "output_type": "stream",
     "text": [
      " How old are you?\n"
     ]
    },
    {
     "name": "stdin",
     "output_type": "stream",
     "text": [
      " 30\n"
     ]
    },
    {
     "name": "stdout",
     "output_type": "stream",
     "text": [
      " how tall are you?\n"
     ]
    },
    {
     "name": "stdin",
     "output_type": "stream",
     "text": [
      " 56\n"
     ]
    },
    {
     "name": "stdout",
     "output_type": "stream",
     "text": [
      " How much do you weigh?\n"
     ]
    },
    {
     "name": "stdin",
     "output_type": "stream",
     "text": [
      " 119\n"
     ]
    },
    {
     "name": "stdout",
     "output_type": "stream",
     "text": [
      "SO, you're 30 years old, 56 ta;; and 119 heavy\n"
     ]
    }
   ],
   "source": [
    "print ( \"Who are you?\")\n",
    "name = input()\n",
    "print(\" How old are you?\")\n",
    "age = input()\n",
    "print(\" how tall are you?\")\n",
    "height = input()\n",
    "print(\" How much do you weigh?\")\n",
    "weight = input()\n",
    "print (f\"SO, you're {age} years old, {height} ta;; and {weight} heavy\")  "
   ]
  },
  {
   "cell_type": "code",
   "execution_count": 38,
   "id": "09dd58e6-6e19-434b-983e-eb1444c4e7ea",
   "metadata": {},
   "outputs": [
    {
     "name": "stdout",
     "output_type": "stream",
     "text": [
      " Name? "
     ]
    },
    {
     "name": "stdin",
     "output_type": "stream",
     "text": [
      " samir\n"
     ]
    },
    {
     "name": "stdout",
     "output_type": "stream",
     "text": [
      "age\n"
     ]
    },
    {
     "name": "stdin",
     "output_type": "stream",
     "text": [
      " 29\n"
     ]
    },
    {
     "name": "stdout",
     "output_type": "stream",
     "text": [
      "Namaste samir You are 29 years old\n"
     ]
    }
   ],
   "source": [
    "print(\" Name?\", end = ' ' ) \n",
    "name = input()\n",
    "print(\"age\")\n",
    "age = int(input())\n",
    "print(f\"Namaste {name} You are {age} years old\")"
   ]
  },
  {
   "cell_type": "code",
   "execution_count": 42,
   "id": "0f6e9eb2-3d7d-4ab3-a31f-6ebf3533575b",
   "metadata": {},
   "outputs": [
    {
     "name": "stdout",
     "output_type": "stream",
     "text": [
      " Enter first Number\n"
     ]
    },
    {
     "name": "stdin",
     "output_type": "stream",
     "text": [
      " 12\n"
     ]
    },
    {
     "name": "stdout",
     "output_type": "stream",
     "text": [
      " ENter Secomd number\n"
     ]
    },
    {
     "name": "stdin",
     "output_type": "stream",
     "text": [
      " 4\n"
     ]
    },
    {
     "name": "stdout",
     "output_type": "stream",
     "text": [
      "Sum: 16, product: 48 and Division: 3.0\n"
     ]
    }
   ],
   "source": [
    "print(\" Enter first Number\")#print to get first number \n",
    "first_num = int(input()) #taking first num as input\n",
    "print(\" ENter Secomd number\") #print to get second number\n",
    "second_num = int(input()) #taking second num as input\n",
    "sum = first_num + second_num #sum\n",
    "product = first_num * second_num #multiply\n",
    "division = first_num /  second_num #division\n",
    "print(f\"Sum: {sum}, product: {product} and Division: {division}\")"
   ]
  },
  {
   "cell_type": "code",
   "execution_count": 52,
   "id": "326378a4-08c3-45a3-9b46-c79fe59665cf",
   "metadata": {},
   "outputs": [
    {
     "name": "stdout",
     "output_type": "stream",
     "text": [
      "input string in lower case\n"
     ]
    },
    {
     "name": "stdin",
     "output_type": "stream",
     "text": [
      " samir\n"
     ]
    },
    {
     "name": "stdout",
     "output_type": "stream",
     "text": [
      "input string in upper case\n"
     ]
    },
    {
     "name": "stdin",
     "output_type": "stream",
     "text": [
      " SAMIR\n"
     ]
    },
    {
     "name": "stdout",
     "output_type": "stream",
     "text": [
      "Upper text converted to upper text : SAMIR\n",
      "Upper text converted to lower text : samir\n"
     ]
    }
   ],
   "source": [
    "print(\"input string in lower case\") #print the question\n",
    "text_1 = input() #asking to input string\n",
    "print(\"input string in upper case\") #print the second question\n",
    "\n",
    "text_2 = input()\n",
    "print(\"Lower text converted to upper text :\",(text_1.upper()))\n",
    "print(\"Upper text converted to lower text :\", (text_2.lower()))"
   ]
  },
  {
   "cell_type": "code",
   "execution_count": 56,
   "id": "f0ea5730-1e32-4296-96cb-7355255b51be",
   "metadata": {},
   "outputs": [
    {
     "name": "stdin",
     "output_type": "stream",
     "text": [
      "How old are you?  22\n",
      " How tall are you 22\n",
      "How much do you weigh? 22\n"
     ]
    },
    {
     "name": "stdout",
     "output_type": "stream",
     "text": [
      "So, you're 22 years old, 22 tall and 22 heavy\n"
     ]
    }
   ],
   "source": [
    "age = int(input(\"How old are you? \"))\n",
    "height = int(input(\" How tall are you\"))\n",
    "weight = int(input(\"How much do you weigh?\"))\n",
    "print(f\"So, you're {age} years old, {height} tall and {weight} heavy\")\n"
   ]
  },
  {
   "cell_type": "code",
   "execution_count": 73,
   "id": "024eafe0-b682-433a-8901-c04dbca7fa5a",
   "metadata": {},
   "outputs": [
    {
     "name": "stdout",
     "output_type": "stream",
     "text": [
      "The script is called: /opt/anaconda3/lib/python3.12/site-packages/ipykernel_launcher.py\n"
     ]
    },
    {
     "name": "stdin",
     "output_type": "stream",
     "text": [
      "> sa\n"
     ]
    },
    {
     "name": "stdout",
     "output_type": "stream",
     "text": [
      "Your first variable is: -f\n",
      "Your second variable is: /Users/samirsitaula/Library/Jupyter/runtime/kernel-050b0b8b-f37e-4483-b7d4-bad2190e49b8.json\n"
     ]
    },
    {
     "name": "stdin",
     "output_type": "stream",
     "text": [
      "third Variable: > sasa\n"
     ]
    },
    {
     "name": "stdout",
     "output_type": "stream",
     "text": [
      "Your third variable is: sasa\n"
     ]
    }
   ],
   "source": [
    "from sys import argv\n",
    "script, first, second = argv\n",
    "prompt = '>'\n",
    "print(\"The script is called:\", script)\n",
    "script = input(prompt)\n",
    "print(\"Your first variable is:\", first)\n",
    "print(\"Your second variable is:\", second)\n",
    "third = input(\"third Variable: >\")\n",
    "print(\"Your third variable is:\", third )"
   ]
  },
  {
   "cell_type": "code",
   "execution_count": null,
   "id": "9b62206c-2faa-41e2-9d3c-78bf152d22da",
   "metadata": {},
   "outputs": [],
   "source": []
  },
  {
   "cell_type": "code",
   "execution_count": null,
   "id": "7ca9950e-498b-4ecd-864f-738f3aeab672",
   "metadata": {},
   "outputs": [],
   "source": []
  },
  {
   "cell_type": "code",
   "execution_count": null,
   "id": "71abcf20-4d52-4497-bcc0-3051e249838f",
   "metadata": {},
   "outputs": [],
   "source": []
  }
 ],
 "metadata": {
  "kernelspec": {
   "display_name": "Python 3 (ipykernel)",
   "language": "python",
   "name": "python3"
  },
  "language_info": {
   "codemirror_mode": {
    "name": "ipython",
    "version": 3
   },
   "file_extension": ".py",
   "mimetype": "text/x-python",
   "name": "python",
   "nbconvert_exporter": "python",
   "pygments_lexer": "ipython3",
   "version": "3.12.7"
  }
 },
 "nbformat": 4,
 "nbformat_minor": 5
}
