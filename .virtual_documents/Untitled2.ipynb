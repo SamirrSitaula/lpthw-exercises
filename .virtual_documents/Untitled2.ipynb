print("Hello World!")
print("hello Again")
print("I like typing this")
print("this is fun")
print('yay! Printing')
print("I'd much rather you 'not'.")
print('I " Said" do not touch this.')


print("#make your #script print another line" )
#print("make your script print only one line")



#print all the lines
print("i will now count my chickens:")
#print number of hens
print("hens", 25+30/6)
#print Number of roosters
print("roosters", 100-25* 3 %4)
#prnts all lines
print("Now I will count the eggs:")
#prints the calculations for eggs
print (3 + 2 + 1 - 5 + 4 % 2 - 1 /4 + 6)
#prints whether 3 + 2 < 5 - 7
print("is it true that 3 + 2<5 - 7?")
#prints its calculations
print(3 + 2 < 5 - 7)
#prints the sum of 3 + 3
print("what is 3 + 2?", 3 + 2)
#prints the substractions of seven with five
print("what is 5 - 7", 5 - 7)
#prints all the sentences
print("Oh, that's why its False.")
#prints some more questions
print ("How about some more.")
#prints to check whether 5 is greater than - 2
print("is it greater?", 5> -2)

#prints whether 5 is greater than - 2
print("is it greater or equal?", 5>=-2)
#prints whether 5 is less than or euuals -2
print("is it less or equal?", 5<= -2)



#number of cars
cars = 100
#space available in car with float numbers
space_in_a_car = 4.0
#number of drivers
drivers = 30
#numbers of passengets
passengers = 90
#number of cars that are not driven
cars_not_driven = cars - drivers
#number of cars that are driven is equals number of drives
cars_driven = drivers
carpool_capacity = cars_driven * space_in_a_car
average_passengers_per_car = passengers / cars_driven
print("there are", cars, "cars avaialbe.")
print("there are only", drivers, "drivers available")
print("There will be", cars_not_driven, "empty cars today")
print( " we can transport", carpool_capacity, "people")
print("we need to put about", average_passengers_per_car, "in each car")





name = 'Zed A Shaw'
age = 35 # not a lie
height = 74 #inches
height_in_cm = height * 2.54 
weight = 180 # lbs
weight_in_kilogram = weight * 0.5
eyes = 'Blue'
teeth = 'White'
hair = 'Brown'
print(f"Let's talk about {name}.")
print(f"He's {height_in_cm} inches tall.")
print(f"He's {weight_in_kilogram} pounds heavy.")
print("Actually that's not too heavy")
print(f"His teeth are usually {teeth} depending on the")
# this line is tricky, try to get it exactly right
total = age + height_in_cm + weight_in_kilogram
print(f"If I add {age}, {height_in_cm}, and {weight_in_kilogram}")


#variable
types_of_people = 10
#variable inside variable
x = f"There are {types_of_people} types of people"
#variable
binary = "binary"
#variable
do_not = "don't"
#variable inside string
y = f"Those who know {binary} and those who {do_not}."
#printing X variable
print(x)
#printing Y variable
print(y)
#variable inside print string
print(f"I said: {x}")
#variable inside print string
print(f"I also said: ' {y}'")
#boolean variable
hilarious = False
#final variable with 
joke_evaluation = "Isn't that joke so funny?! {}"
print(joke_evaluation.format(hilarious))
w = "This is the left side of ...."
e = "a string with a right side."
print(w + e)


#prints string
print("Mary had a little lamb.")

#prints string and at last word was called using .format()
print("Its fleece was white as {}.".format('snow'))
#prints a string
print("And everwhere that Mary went.")
#prints . ten times
print("." * 10) #what'd that do?
#assigning variable to its value
end1 = "c"
#assigning variable to its value
end2 = "h"
#assigning variable to its value
end3 = "e"
#assigning variable to its value
end4 = "e"
#assigning variable to its value
end5 = "s"
#assigning variable to its value
end6 = "e"
#assigning variable to its value
end7 = "B"
#assigning variable to its value
end8 = "u"
#assigning variable to its value
end9 = "r"
#assigning variable to its value
end10 = "g"
#assigning variable to its value
end11 = "e"
#assigning variable to its value
end12 = "r"
#watch end = ' ' at the end. try removing it to see what happens
print(end1 + end2 + end3 + end4 + end5 + end6, end='')
print(end7 + end8 + end9 + end10 + end11 + end12)



formatter = " {} {} {} {}"

print(formatter.format(1, 2, 3, 4))
print(formatter.format("one", "two", "three", "four"))
print(formatter.format(True, False, False, True))
print(formatter.format(formatter, formatter, formatter, formatter))
print(formatter.format(
    "Try your",
    "Own text here",
    "May be a poem",
    "or a song about fear"
))

keyword = " {} {} {} {}"
print(keyword.format(
    "Ahh Mero Ekkdum Thik chha,",
    "Timro Teta Kasto chha,",
    "Timlai Sancho vayo ki chhaina,",
    "Dherai baira baira kukur jasto nahidnu,"
))



#Here's some new strange stuff, remember type it exactly
days = "Mon Tue Wed Thu Fri Sat Sun"
months = "Jan\nFeb\nMar\nApr\nMay\nJun\nJul\nAug"
print("Here are the days: ", days)
print("Here are the months: ", months)

print("""There's something going on here.
with the three double-quotes.
We'll be able to type as much as we like.
Even 4 lines if we want, or 5, or 6.
""")


tabby_cat = "\tI'm tabbed in. "
persian_cat = " I'm split \non a line."
backslash_cat = " I'm \\ a \\ cat."
fat_cat = """
I'll do a list:
\t* cat food
\t* Fishies
\t* Catnip \n\t* Grass
"""

print(tabby_cat)
print(persian_cat)
print(backslash_cat)
print(fat_cat)


print ( "Who are you?", end = '')
name = input()
print(" How old are you?" , end = '')
age = input()
print(" how tall are you?", end = '')
height = input()
print(" How much do you weigh?" , end = '')
weight = input()
print (f"SO, you're {age} years old, {height} ta;; and {weight} heavy")  


print ( "Who are you?")
name = input()
print(" How old are you?")
age = input()
print(" how tall are you?")
height = input()
print(" How much do you weigh?")
weight = input()
print (f"SO, you're {age} years old, {height} ta;; and {weight} heavy")  


print(" Name?", end = ' ' ) 
name = input()
print("age")
age = int(input())
print(f"Namaste {name} You are {age} years old")


print(" Enter first Number")#print to get first number 
first_num = int(input()) #taking first num as input
print(" ENter Secomd number") #print to get second number
second_num = int(input()) #taking second num as input
sum = first_num + second_num #sum
product = first_num * second_num #multiply
division = first_num /  second_num #division
print(f"Sum: {sum}, product: {product} and Division: {division}")


print("input string in lower case") #print the question
text_1 = input() #asking to input string
print("input string in upper case") #print the second question

text_2 = input()
print("Lower text converted to upper text :",(text_1.upper()))
print("Upper text converted to lower text :", (text_2.lower()))


age = int(input("How old are you? "))
height = int(input(" How tall are you"))
weight = int(input("How much do you weigh?"))
print(f"So, you're {age} years old, {height} tall and {weight} heavy")



from sys import argv
script, first, second, third = argv

input("The script is called:", script)
input("Your first variable is:", first)
input("Your second variable is:", second)
input("Your third variable is:", third)









