{
 "cells": [
  {
   "cell_type": "code",
   "execution_count": null,
   "id": "eb886f72-eaf6-4cd9-91c9-150e7fd6bbe8",
   "metadata": {},
   "outputs": [],
   "source": [
    "print(\"Hello World!\")\n",
    "print(\"hello Again\")\n",
    "print(\"I like typing this\")\n",
    "print(\"this is fun\")\n",
    "print('yay! Printing')\n",
    "print(\"I'd much rather you 'not'.\"\n",
    "      "
   ]
  }
 ],
 "metadata": {
  "kernelspec": {
   "display_name": "Python 3 (ipykernel)",
   "language": "python",
   "name": "python3"
  },
  "language_info": {
   "codemirror_mode": {
    "name": "ipython",
    "version": 3
   },
   "file_extension": ".py",
   "mimetype": "text/x-python",
   "name": "python",
   "nbconvert_exporter": "python",
   "pygments_lexer": "ipython3",
   "version": "3.12.7"
  }
 },
 "nbformat": 4,
 "nbformat_minor": 5
}
